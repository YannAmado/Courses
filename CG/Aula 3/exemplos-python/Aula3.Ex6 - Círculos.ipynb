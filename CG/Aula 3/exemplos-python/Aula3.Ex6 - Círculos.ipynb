{
 "cells": [
  {
   "cell_type": "markdown",
   "metadata": {},
   "source": [
    "# Aula3.Ex6 - Círculos"
   ]
  },
  {
   "cell_type": "markdown",
   "metadata": {},
   "source": [
    "### Primeiro, importamos as bibliotecas necessárias.\n",
    "Verifique no código anterior um script para instalar as dependências necessárias (OpenGL e GLFW) antes de prosseguir."
   ]
  },
  {
   "cell_type": "code",
   "execution_count": 102,
   "metadata": {},
   "outputs": [],
   "source": [
    "import glfw\n",
    "from OpenGL.GL import *\n",
    "import OpenGL.GL.shaders\n",
    "import numpy as np"
   ]
  },
  {
   "cell_type": "markdown",
   "metadata": {},
   "source": [
    "### Inicializando janela"
   ]
  },
  {
   "cell_type": "code",
   "execution_count": 103,
   "metadata": {},
   "outputs": [],
   "source": [
    "glfw.init()\n",
    "glfw.window_hint(glfw.VISIBLE, glfw.FALSE);\n",
    "window = glfw.create_window(800, 500, \"Círculos\", None, None)\n",
    "glfw.make_context_current(window)"
   ]
  },
  {
   "cell_type": "markdown",
   "metadata": {},
   "source": [
    "### Capturando eventos de teclado e mouse"
   ]
  },
  {
   "cell_type": "code",
   "execution_count": 104,
   "metadata": {},
   "outputs": [],
   "source": [
    "def key_event(window,key,scancode,action,mods):\n",
    "    print('[key event] key=',key)\n",
    "    print('[key event] scancode=',scancode)\n",
    "    print('[key event] action=',action)\n",
    "    print('[key event] mods=',mods)\n",
    "    print('-------')\n",
    "    \n",
    "glfw.set_key_callback(window,key_event)\n",
    "\n",
    "def mouse_event(window,button,action,mods):\n",
    "    print('[mouse event] button=',button)\n",
    "    print('[mouse event] action=',action)\n",
    "    print('[mouse event] mods=',mods)\n",
    "    print('-------')\n",
    "glfw.set_mouse_button_callback(window,mouse_event)"
   ]
  },
  {
   "cell_type": "markdown",
   "metadata": {},
   "source": [
    "### GLSL (OpenGL Shading Language)\n",
    "\n",
    "Aqui veremos nosso primeiro código GLSL.\n",
    "\n",
    "É uma linguagem de shading de alto nível baseada na linguagem de programação C.\n",
    "\n",
    "Estamos escrevendo código GLSL como se \"strings\" de uma variável (mas podemos ler de arquivos texto). Esse código, depois, terá que ser compilado e linkado ao nosso programa. \n",
    "\n",
    "Iremos aprender GLSL conforme a necessidade do curso. Usarmos uma versão do GLSL mais antiga, compatível com muitos dispositivos."
   ]
  },
  {
   "cell_type": "markdown",
   "metadata": {},
   "source": [
    "### GLSL para Vertex Shader\n",
    "\n",
    "No Pipeline programável, podemos interagir com Vertex Shaders.\n",
    "\n",
    "No código abaixo, estamos fazendo o seguinte:\n",
    "\n",
    "* Definindo uma variável chamada position do tipo vec2.\n",
    "* Usamos vec2, pois nosso programa (na CPU) irá enviar apenas duas coordenadas para plotar um ponto. Podemos mandar três coordenadas (vec3) e até mesmo quatro coordenadas (vec4).\n",
    "* void main() é o ponto de entrada do nosso programa (função principal).\n",
    "* gl_Position é uma variável especial do GLSL. Variáveis que começam com 'gl_' são desse tipo. Nesse caso, determina a posição de um vértice. Observe que todo vértice tem 4 coordenadas, por isso nós combinamos nossa variável vec2 com uma variável vec4."
   ]
  },
  {
   "cell_type": "code",
   "execution_count": 105,
   "metadata": {},
   "outputs": [],
   "source": [
    "vertex_code = \"\"\"\n",
    "        attribute vec2 position;\n",
    "        void main(){\n",
    "            gl_Position = vec4(position,0.0,1.0);\n",
    "        }\n",
    "        \"\"\""
   ]
  },
  {
   "cell_type": "markdown",
   "metadata": {},
   "source": [
    "### GLSL para Fragment Shader\n",
    "\n",
    "No Pipeline programável, podemos interagir com Fragment Shaders.\n",
    "\n",
    "No código abaixo, estamos fazendo o seguinte:\n",
    "\n",
    "* void main() é o ponto de entrada do nosso programa (função principal).\n",
    "* gl_FragColor é uma variável especial do GLSL. Variáveis que começam com 'gl_' são desse tipo. Nesse caso, determina a cor de um fragmento. Nesse caso é um ponto, mas poderia ser outro objeto (ponto, linha, triangulos, etc)."
   ]
  },
  {
   "cell_type": "code",
   "execution_count": 106,
   "metadata": {},
   "outputs": [],
   "source": [
    "fragment_code = \"\"\"\n",
    "        void main(){\n",
    "            gl_FragColor = vec4(0.0, 0.0, 0.0, 1.0);\n",
    "        }\n",
    "        \"\"\""
   ]
  },
  {
   "cell_type": "markdown",
   "metadata": {},
   "source": [
    "### Requisitando slot para a GPU para nossos programas Vertex e Fragment Shaders"
   ]
  },
  {
   "cell_type": "code",
   "execution_count": 107,
   "metadata": {},
   "outputs": [],
   "source": [
    "# Request a program and shader slots from GPU\n",
    "program  = glCreateProgram()\n",
    "vertex   = glCreateShader(GL_VERTEX_SHADER)\n",
    "fragment = glCreateShader(GL_FRAGMENT_SHADER)"
   ]
  },
  {
   "cell_type": "markdown",
   "metadata": {},
   "source": [
    "### Associando nosso código-fonte aos slots solicitados"
   ]
  },
  {
   "cell_type": "code",
   "execution_count": 108,
   "metadata": {},
   "outputs": [],
   "source": [
    "# Set shaders source\n",
    "glShaderSource(vertex, vertex_code)\n",
    "glShaderSource(fragment, fragment_code)"
   ]
  },
  {
   "cell_type": "markdown",
   "metadata": {},
   "source": [
    "### Compilando o Vertex Shader\n",
    "\n",
    "Se há algum erro em nosso programa Vertex Shader, nosso app para por aqui."
   ]
  },
  {
   "cell_type": "code",
   "execution_count": 109,
   "metadata": {},
   "outputs": [],
   "source": [
    "# Compile shaders\n",
    "glCompileShader(vertex)\n",
    "if not glGetShaderiv(vertex, GL_COMPILE_STATUS):\n",
    "    error = glGetShaderInfoLog(vertex).decode()\n",
    "    print(error)\n",
    "    raise RuntimeError(\"Erro de compilacao do Vertex Shader\")"
   ]
  },
  {
   "cell_type": "markdown",
   "metadata": {},
   "source": [
    "### Compilando o Fragment Shader\n",
    "\n",
    "Se há algum erro em nosso programa Fragment Shader, nosso app para por aqui."
   ]
  },
  {
   "cell_type": "code",
   "execution_count": 110,
   "metadata": {},
   "outputs": [],
   "source": [
    "glCompileShader(fragment)\n",
    "if not glGetShaderiv(fragment, GL_COMPILE_STATUS):\n",
    "    error = glGetShaderInfoLog(fragment).decode()\n",
    "    print(error)\n",
    "    raise RuntimeError(\"Erro de compilacao do Fragment Shader\")"
   ]
  },
  {
   "cell_type": "markdown",
   "metadata": {},
   "source": [
    "### Associando os programas compilado ao programa principal"
   ]
  },
  {
   "cell_type": "code",
   "execution_count": 111,
   "metadata": {},
   "outputs": [],
   "source": [
    "# Attach shader objects to the program\n",
    "glAttachShader(program, vertex)\n",
    "glAttachShader(program, fragment)"
   ]
  },
  {
   "cell_type": "markdown",
   "metadata": {},
   "source": [
    "### Linkagem do programa"
   ]
  },
  {
   "cell_type": "code",
   "execution_count": 112,
   "metadata": {},
   "outputs": [],
   "source": [
    "# Build program\n",
    "glLinkProgram(program)\n",
    "if not glGetProgramiv(program, GL_LINK_STATUS):\n",
    "    print(glGetProgramInfoLog(program))\n",
    "    raise RuntimeError('Linking error')\n",
    "    \n",
    "# Make program the default program\n",
    "glUseProgram(program)"
   ]
  },
  {
   "cell_type": "markdown",
   "metadata": {},
   "source": [
    "### Preparando dados para enviar a GPU\n",
    "\n",
    "Nesse momento, compilamos nossos Vertex e Program Shaders para que a GPU possa processá-los.\n",
    "\n",
    "Por outro lado, as informações de vértices geralmente estão na CPU e devem ser transmitidas para a GPU.\n"
   ]
  },
  {
   "cell_type": "markdown",
   "metadata": {},
   "source": [
    "No caso do círculo, temos que gerar as coordenadas para nossos vértices"
   ]
  },
  {
   "cell_type": "code",
   "execution_count": 113,
   "metadata": {},
   "outputs": [],
   "source": [
    "import math # para calculo com sin e cos\n",
    "\n",
    "num_vertices = 64 # define a \"qualidade\" do circulo\n",
    "pi = 3.14\n",
    "counter = 0\n",
    "radius = 1.0\n",
    "vertices = np.zeros(num_vertices, [(\"position\", np.float32, 2)])\n",
    "center = 0.0\n",
    "angle = 0.0\n",
    "for counter in range(num_vertices):\n",
    "    angle += 2*pi/num_vertices \n",
    "    x = math.cos(angle)*radius + center\n",
    "    x = x/8\n",
    "    y = math.sin(angle)*radius + center\n",
    "    y = y/5\n",
    "    vertices[counter] = [x,y]\n",
    "glDrawArrays(GL_TRIANGLE_FAN, 0, len(vertices))"
   ]
  },
  {
   "cell_type": "code",
   "execution_count": null,
   "metadata": {},
   "outputs": [],
   "source": []
  },
  {
   "cell_type": "code",
   "execution_count": 114,
   "metadata": {},
   "outputs": [
    {
     "data": {
      "text/plain": [
       "array([([ 1.24398701e-01,  1.95935220e-02],),\n",
       "       ([ 1.22600585e-01,  3.89985368e-02],),\n",
       "       ([ 1.19622961e-01,  5.80283590e-02],),\n",
       "       ([ 1.15494460e-01,  7.64999017e-02],),\n",
       "       ([ 1.10254817e-01,  9.42354500e-02],),\n",
       "       ([ 1.03954434e-01,  1.11064382e-01],),\n",
       "       ([ 9.66539308e-02,  1.26824781e-01],),\n",
       "       ([ 8.84235352e-02,  1.41365036e-01],),\n",
       "       ([ 7.93424323e-02,  1.54545248e-01],),\n",
       "       ([ 6.94979951e-02,  1.66238606e-01],),\n",
       "       ([ 5.89849353e-02,  1.76332608e-01],),\n",
       "       ([ 4.79043946e-02,  1.84730157e-01],),\n",
       "       ([ 3.63629721e-02,  1.91350460e-01],),\n",
       "       ([ 2.44717095e-02,  1.96129814e-01],),\n",
       "       ([ 1.23450095e-02,  1.99022248e-01],),\n",
       "       ([ 9.95408409e-05,  1.99999943e-01],),\n",
       "       ([-1.21468855e-02,  1.99053466e-01],),\n",
       "       ([-2.42764484e-02,  1.96191937e-01],),\n",
       "       ([-3.61724533e-02,  1.91442877e-01],),\n",
       "       ([-4.77204509e-02,  1.84852004e-01],),\n",
       "       ([-5.88093400e-02,  1.76482692e-01],),\n",
       "       ([-6.93324357e-02,  1.66415483e-01],),\n",
       "       ([-7.91884959e-02,  1.54747233e-01],),\n",
       "       ([-8.82827044e-02,  1.41590178e-01],),\n",
       "       ([-9.65275615e-02,  1.27070919e-01],),\n",
       "       ([-1.03843749e-01,  1.11329146e-01],),\n",
       "       ([-1.10160872e-01,  9.45162848e-02],),\n",
       "       ([-1.15418166e-01,  7.67941102e-02],),\n",
       "       ([-1.19565047e-01,  5.83331138e-02],),\n",
       "       ([-1.22561611e-01,  3.93109061e-02],),\n",
       "       ([-1.24379039e-01,  1.99104957e-02],),\n",
       "       ([-1.24999844e-01,  3.18530598e-04],),\n",
       "       ([-1.24418043e-01, -1.92764979e-02],),\n",
       "       ([-1.22639254e-01, -3.86860743e-02],),\n",
       "       ([-1.19680569e-01, -5.77234551e-02],),\n",
       "       ([-1.15570463e-01, -7.62054920e-02],),\n",
       "       ([-1.10348478e-01, -9.39543769e-02],),\n",
       "       ([-1.04064859e-01, -1.10799342e-01],),\n",
       "       ([-9.67800468e-02, -1.26578331e-01],),\n",
       "       ([-8.85641351e-02, -1.41139537e-01],),\n",
       "       ([-7.94961676e-02, -1.54342860e-01],),\n",
       "       ([-6.96633831e-02, -1.66061297e-01],),\n",
       "       ([-5.91603853e-02, -1.76182076e-01],),\n",
       "       ([-4.80882153e-02, -1.84607863e-01],),\n",
       "       ([-3.65533978e-02, -1.91257566e-01],),\n",
       "       ([-2.46669073e-02, -1.96067214e-01],),\n",
       "       ([-1.25431018e-02, -1.98990539e-01],),\n",
       "       ([-2.98622268e-04, -1.99999422e-01],),\n",
       "       ([ 1.19487308e-02, -1.99084163e-01],),\n",
       "       ([ 2.40811277e-02, -1.96253553e-01],),\n",
       "       ([ 3.59818451e-02, -1.91534817e-01],),\n",
       "       ([ 4.75363880e-02, -1.84973374e-01],),\n",
       "       ([ 5.86335920e-02, -1.76632330e-01],),\n",
       "       ([ 6.91666976e-02, -1.66591957e-01],),\n",
       "       ([ 7.90343583e-02, -1.54948831e-01],),\n",
       "       ([ 8.81416500e-02, -1.41814962e-01],),\n",
       "       ([ 9.64009538e-02, -1.27316743e-01],),\n",
       "       ([ 1.03732802e-01, -1.11593619e-01],),\n",
       "       ([ 1.10066652e-01, -9.47968811e-02],),\n",
       "       ([ 1.15341581e-01, -7.70881251e-02],),\n",
       "       ([ 1.19506828e-01, -5.86377196e-02],),\n",
       "       ([ 1.22522324e-01, -3.96231711e-02],),\n",
       "       ([ 1.24359064e-01, -2.02274192e-02],),\n",
       "       ([ 1.24999367e-01, -6.37060381e-04],)],\n",
       "      dtype=[('position', '<f4', (2,))])"
      ]
     },
     "execution_count": 114,
     "metadata": {},
     "output_type": "execute_result"
    }
   ],
   "source": [
    "vertices"
   ]
  },
  {
   "cell_type": "markdown",
   "metadata": {},
   "source": [
    "### Para enviar nossos dados da CPU para a GPU, precisamos requisitar um slot."
   ]
  },
  {
   "cell_type": "code",
   "execution_count": 115,
   "metadata": {},
   "outputs": [],
   "source": [
    "# Request a buffer slot from GPU\n",
    "buffer = glGenBuffers(1)\n",
    "# Make this buffer the default one\n",
    "glBindBuffer(GL_ARRAY_BUFFER, buffer)"
   ]
  },
  {
   "cell_type": "markdown",
   "metadata": {},
   "source": [
    "### Abaixo, enviamos todo o conteúdo da variável vertices.\n",
    "\n",
    "Veja os parâmetros da função glBufferData [https://www.khronos.org/registry/OpenGL-Refpages/gl4/html/glBufferData.xhtml]"
   ]
  },
  {
   "cell_type": "code",
   "execution_count": 116,
   "metadata": {},
   "outputs": [],
   "source": [
    "# Upload data\n",
    "glBufferData(GL_ARRAY_BUFFER, vertices.nbytes, vertices, GL_DYNAMIC_DRAW)\n",
    "glBindBuffer(GL_ARRAY_BUFFER, buffer)"
   ]
  },
  {
   "cell_type": "markdown",
   "metadata": {},
   "source": [
    "### Associando variáveis do programa GLSL (Vertex Shaders) com nossos dados\n",
    "\n",
    "Primeiro, definimos o byte inicial e o offset dos dados."
   ]
  },
  {
   "cell_type": "code",
   "execution_count": 117,
   "metadata": {},
   "outputs": [],
   "source": [
    "# Bind the position attribute\n",
    "# --------------------------------------\n",
    "stride = vertices.strides[0]\n",
    "offset = ctypes.c_void_p(0)"
   ]
  },
  {
   "cell_type": "markdown",
   "metadata": {},
   "source": [
    "Em seguida, soliciamos à GPU a localização da variável \"position\" (que guarda coordenadas dos nossos vértices). Definimos essa variável no Vertex Shader."
   ]
  },
  {
   "cell_type": "code",
   "execution_count": 118,
   "metadata": {},
   "outputs": [],
   "source": [
    "loc = glGetAttribLocation(program, \"position\")\n",
    "glEnableVertexAttribArray(loc)"
   ]
  },
  {
   "cell_type": "markdown",
   "metadata": {},
   "source": [
    "A partir da localização anterior, indicamos à GPU onde está o conteúdo (via posições stride/offset) para a variável position (aqui identificada na posição loc).\n",
    "\n",
    "Outros parâmetros:\n",
    "\n",
    "* Definimos que possui duas coordenadas\n",
    "* Que cada coordenada é do tipo float (GL_FLOAT)\n",
    "* Que não se deve normalizar a coordenada (False)\n",
    "\n",
    "Mais detalhes: https://www.khronos.org/registry/OpenGL-Refpages/gl4/html/glVertexAttribPointer.xhtml"
   ]
  },
  {
   "cell_type": "code",
   "execution_count": 119,
   "metadata": {},
   "outputs": [],
   "source": [
    "glVertexAttribPointer(loc, 2, GL_FLOAT, False, stride, offset)"
   ]
  },
  {
   "cell_type": "markdown",
   "metadata": {},
   "source": [
    "### Nesse momento, exibimos a janela.\n"
   ]
  },
  {
   "cell_type": "code",
   "execution_count": 120,
   "metadata": {},
   "outputs": [],
   "source": [
    "glfw.show_window(window)"
   ]
  },
  {
   "cell_type": "markdown",
   "metadata": {},
   "source": [
    "### Loop principal da janela.\n",
    "Enquanto a janela não for fechada, esse laço será executado. É neste espaço que trabalhamos com algumas interações com a OpenGL.\n",
    "\n",
    "A novidade agora é a função glDrawArrays().\n",
    "\n",
    "Tal função recebe o tipo de primitiva (GL_TRIANGLE_FAN), o índice inicial do array de vértices (vamos mostrar todos os três vértices, por isso começamos com 0) e a quantidade de vértices ( len(vertices) )."
   ]
  },
  {
   "cell_type": "code",
   "execution_count": 121,
   "metadata": {},
   "outputs": [
    {
     "name": "stdout",
     "output_type": "stream",
     "text": [
      "[mouse event] button= 0\n",
      "[mouse event] action= 1\n",
      "[mouse event] mods= 0\n",
      "-------\n",
      "[mouse event] button= 0\n",
      "[mouse event] action= 0\n",
      "[mouse event] mods= 0\n",
      "-------\n"
     ]
    }
   ],
   "source": [
    "while not glfw.window_should_close(window):\n",
    "\n",
    "    glfw.poll_events() \n",
    "\n",
    "    \n",
    "    #glPolygonMode(GL_FRONT_AND_BACK,GL_LINE) ## ative esse comando para enxergar os triângulos\n",
    "    glClear(GL_COLOR_BUFFER_BIT) \n",
    "    glClearColor(1.0, 1.0, 1.0, 1.0)\n",
    "    \n",
    "    \n",
    "    glDrawArrays(GL_TRIANGLE_FAN, 0, len(vertices))\n",
    "\n",
    "    glfw.swap_buffers(window)\n",
    "\n",
    "glfw.terminate()"
   ]
  },
  {
   "cell_type": "markdown",
   "metadata": {},
   "source": [
    "# Exercício\n",
    "\n",
    "1. Modifique esse código para desenhar o círculo a partir de qualquer centro.\n",
    "\n",
    "2. Faça que com sua janela tenha o tamanho width=800 e height=500. Veja o que acontece com seu círculo (efeito do aspect ratio). Tente corrigir esse efeito durante a geração das coordenadas do vértice."
   ]
  }
 ],
 "metadata": {
  "finalized": {
   "timestamp": 1583114796072,
   "trusted": true
  },
  "kernelspec": {
   "display_name": "Python 3",
   "language": "python",
   "name": "python3"
  },
  "language_info": {
   "codemirror_mode": {
    "name": "ipython",
    "version": 3
   },
   "file_extension": ".py",
   "mimetype": "text/x-python",
   "name": "python",
   "nbconvert_exporter": "python",
   "pygments_lexer": "ipython3",
   "version": "3.8.8"
  }
 },
 "nbformat": 4,
 "nbformat_minor": 2
}
