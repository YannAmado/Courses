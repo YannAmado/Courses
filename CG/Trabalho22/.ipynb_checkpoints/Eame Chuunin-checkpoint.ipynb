{
 "cells": [
  {
   "cell_type": "markdown",
   "metadata": {
    "pycharm": {
     "name": "#%% md\n"
    }
   },
   "source": [
    "# Aula 9.Ex - Malhas e Texturas - Mapeamento de Texturas"
   ]
  },
  {
   "cell_type": "markdown",
   "metadata": {
    "pycharm": {
     "name": "#%% md\n"
    }
   },
   "source": [
    "### Primeiro, importamos as bibliotecas necessárias.\n",
    "Verifique no código anterior um script para instalar as dependências necessárias (OpenGL e GLFW) antes de prosseguir."
   ]
  },
  {
   "cell_type": "code",
   "execution_count": 1036,
   "metadata": {
    "pycharm": {
     "name": "#%%\n"
    }
   },
   "outputs": [],
   "source": [
    "import glfw\n",
    "from OpenGL.GL import *\n",
    "import OpenGL.GL.shaders\n",
    "import numpy as np\n",
    "import glm\n",
    "import math\n",
    "from PIL import Image\n",
    "from pygame import mixer"
   ]
  },
  {
   "cell_type": "markdown",
   "metadata": {
    "pycharm": {
     "name": "#%% md\n"
    }
   },
   "source": [
    "### Inicializando janela"
   ]
  },
  {
   "cell_type": "code",
   "execution_count": 1037,
   "metadata": {
    "pycharm": {
     "name": "#%%\n"
    }
   },
   "outputs": [],
   "source": [
    "glfw.init()\n",
    "glfw.window_hint(glfw.VISIBLE, glfw.FALSE);\n",
    "altura = 1200\n",
    "largura = 1600\n",
    "window = glfw.create_window(largura, altura, \"Rock Lee vs Gaara\", None, None)\n",
    "glfw.make_context_current(window)"
   ]
  },
  {
   "cell_type": "markdown",
   "metadata": {
    "pycharm": {
     "name": "#%% md\n"
    }
   },
   "source": [
    "### GLSL (OpenGL Shading Language)\n",
    "\n",
    "Aqui veremos nosso primeiro código GLSL.\n",
    "\n",
    "É uma linguagem de shading de alto nível baseada na linguagem de programação C.\n",
    "\n",
    "Estamos escrevendo código GLSL como se \"strings\" de uma variável (mas podemos ler de arquivos texto). Esse código, depois, terá que ser compilado e linkado ao nosso programa. \n",
    "\n",
    "Aprenderemos GLSL conforme a necessidade do curso. Usaremos uma versão do GLSL mais antiga, compatível com muitos dispositivos."
   ]
  },
  {
   "cell_type": "markdown",
   "metadata": {
    "pycharm": {
     "name": "#%% md\n"
    }
   },
   "source": [
    "### GLSL para Vertex Shader\n",
    "\n",
    "No Pipeline programável, podemos interagir com Vertex Shaders.\n",
    "\n",
    "No código abaixo, estamos fazendo o seguinte:\n",
    "\n",
    "* Definindo uma variável chamada position do tipo vec3.\n",
    "* Definindo matrizes Model, View e Projection que acumulam transformações geométricas 3D e permitem navegação no cenário.\n",
    "* void main() é o ponto de entrada do nosso programa (função principal).\n",
    "* gl_Position é uma variável especial do GLSL. Variáveis que começam com 'gl_' são desse tipo. Nesse caso, determina a posição de um vértice. Observe que todo vértice tem 4 coordenadas, por isso combinamos nossa variável vec2 com uma variável vec4. Além disso, modificamos nosso vetor com base nas transformações Model, View e Projection."
   ]
  },
  {
   "cell_type": "code",
   "execution_count": 1038,
   "metadata": {
    "pycharm": {
     "name": "#%%\n"
    }
   },
   "outputs": [],
   "source": [
    "vertex_code = \"\"\"\n",
    "        attribute vec3 position;\n",
    "        attribute vec2 texture_coord;\n",
    "        attribute vec3 normals;\n",
    "\n",
    "\n",
    "        varying vec2 out_texture;\n",
    "        varying vec3 out_fragPos;\n",
    "        varying vec3 out_normal;\n",
    "\n",
    "        uniform mat4 model;\n",
    "        uniform mat4 view;\n",
    "        uniform mat4 projection;\n",
    "\n",
    "        void main(){\n",
    "            gl_Position = projection * view * model * vec4(position,1.0);\n",
    "            out_texture = vec2(texture_coord);\n",
    "            out_fragPos = vec3(  model * vec4(position, 1.0));\n",
    "            out_normal = vec3( model *vec4(normals, 1.0));\n",
    "        }\n",
    "        \"\"\""
   ]
  },
  {
   "cell_type": "markdown",
   "metadata": {
    "pycharm": {
     "name": "#%% md\n"
    }
   },
   "source": [
    "### GLSL para Fragment Shader\n",
    "\n",
    "No Pipeline programável, podemos interagir com Fragment Shaders.\n",
    "\n",
    "No código abaixo, estamos fazendo o seguinte:\n",
    "\n",
    "* void main() é o ponto de entrada do nosso programa (função principal).\n",
    "* gl_FragColor é uma variável especial do GLSL. Variáveis que começam com 'gl_' são desse tipo. Nesse caso, determina a cor de um fragmento. Nesse caso é um ponto, mas poderia ser outro objeto (ponto, linha, triangulos, etc)."
   ]
  },
  {
   "cell_type": "markdown",
   "metadata": {
    "pycharm": {
     "name": "#%% md\n"
    }
   },
   "source": [
    "### Possibilitando modificar a cor.\n",
    "\n",
    "Nos exemplos anteriores, a variável gl_FragColor estava definida de forma fixa (com cor R=0, G=0, B=0).\n",
    "\n",
    "Agora, criaremos uma variável do tipo \"uniform\", de quatro posições (vec4), para receber o dado de cor do nosso programa rodando em CPU."
   ]
  },
  {
   "cell_type": "code",
   "execution_count": 1039,
   "metadata": {
    "pycharm": {
     "name": "#%%\n"
    }
   },
   "outputs": [],
   "source": [
    "fragment_code = \"\"\"\n",
    "\n",
    "        // parametros da iluminacao ambiente e difusa\n",
    "        uniform vec3 lightPos1; // define coordenadas de posicao da luz #1\n",
    "        uniform vec3 lightPos2; // define coordenadas de posicao da luz #2\n",
    "        uniform float ka; // coeficiente de reflexao ambiente\n",
    "        uniform float kd; // coeficiente de reflexao difusa\n",
    "        \n",
    "        // parametros da iluminacao especular\n",
    "        uniform vec3 viewPos; // define coordenadas com a posicao da camera/observador\n",
    "        uniform float ks; // coeficiente de reflexao especular\n",
    "        uniform float ns; // expoente de reflexao especular\n",
    "        \n",
    "        // parametro com a cor da(s) fonte(s) de iluminacao\n",
    "        vec3 lightColor = vec3(1.0, 1.0, 1.0);\n",
    "\n",
    "        // parametros recebidos do vertex shader\n",
    "        varying vec2 out_texture; // recebido do vertex shader\n",
    "        varying vec3 out_normal; // recebido do vertex shader\n",
    "        varying vec3 out_fragPos; // recebido do vertex shader\n",
    "        uniform sampler2D samplerTexture;\n",
    "        \n",
    "        \n",
    "        \n",
    "        void main(){\n",
    "        \n",
    "            // calculando reflexao ambiente\n",
    "            vec3 ambient = ka * lightColor;             \n",
    "        \n",
    "            ////////////////////////\n",
    "            // Luz #1\n",
    "            ////////////////////////\n",
    "            \n",
    "            // calculando reflexao difusa\n",
    "            vec3 norm1 = normalize(out_normal); // normaliza vetores perpendiculares\n",
    "            vec3 lightDir1 = normalize(lightPos1 - out_fragPos); // direcao da luz\n",
    "            float diff1 = max(dot(norm1, lightDir1), 0.0); // verifica limite angular (entre 0 e 90)\n",
    "            vec3 diffuse1 = kd * diff1 * lightColor; // iluminacao difusa\n",
    "            \n",
    "            // calculando reflexao especular\n",
    "            vec3 viewDir1 = normalize(viewPos - out_fragPos); // direcao do observador/camera\n",
    "            vec3 reflectDir1 = reflect(-lightDir1, norm1); // direcao da reflexao\n",
    "            float spec1 = pow(max(dot(viewDir1, reflectDir1), 0.0), ns);\n",
    "            vec3 specular1 = ks * spec1 * lightColor;    \n",
    "            \n",
    "            \n",
    "            ////////////////////////\n",
    "            // Luz #2\n",
    "            ////////////////////////\n",
    "            \n",
    "            // calculando reflexao difusa\n",
    "            vec3 norm2 = normalize(out_normal); // normaliza vetores perpendiculares\n",
    "            vec3 lightDir2 = normalize(lightPos2 - out_fragPos); // direcao da luz\n",
    "            float diff2 = max(dot(norm2, lightDir2), 0.0); // verifica limite angular (entre 0 e 90)\n",
    "            vec3 diffuse2 = kd * diff2 * lightColor; // iluminacao difusa\n",
    "            \n",
    "            // calculando reflexao especular\n",
    "            vec3 viewDir2 = normalize(viewPos - out_fragPos); // direcao do observador/camera\n",
    "            vec3 reflectDir2 = reflect(-lightDir2, norm2); // direcao da reflexao\n",
    "            float spec2 = pow(max(dot(viewDir2, reflectDir2), 0.0), ns);\n",
    "            vec3 specular2 = ks * spec2 * lightColor;    \n",
    "            \n",
    "            ////////////////////////\n",
    "            // Combinando as duas fontes\n",
    "            ////////////////////////\n",
    "            \n",
    "            // aplicando o modelo de iluminacao\n",
    "            vec4 texture = texture2D(samplerTexture, out_texture);\n",
    "            vec4 result = vec4((ambient + diffuse1 + diffuse2 + specular1 + specular2),1.0) * texture; // aplica iluminacao\n",
    "            gl_FragColor = result;\n",
    "\n",
    "        }\n",
    "        \"\"\""
   ]
  },
  {
   "cell_type": "markdown",
   "metadata": {
    "pycharm": {
     "name": "#%% md\n"
    }
   },
   "source": [
    "### Requisitando slot para a GPU para nossos programas Vertex e Fragment Shaders"
   ]
  },
  {
   "cell_type": "code",
   "execution_count": 1040,
   "metadata": {
    "pycharm": {
     "name": "#%%\n"
    }
   },
   "outputs": [],
   "source": [
    "# Request a program and shader slots from GPU\n",
    "program = glCreateProgram()\n",
    "vertex = glCreateShader(GL_VERTEX_SHADER)\n",
    "fragment = glCreateShader(GL_FRAGMENT_SHADER)"
   ]
  },
  {
   "cell_type": "markdown",
   "metadata": {
    "pycharm": {
     "name": "#%% md\n"
    }
   },
   "source": [
    "### Associando nosso código-fonte aos slots solicitados"
   ]
  },
  {
   "cell_type": "code",
   "execution_count": 1041,
   "metadata": {
    "pycharm": {
     "name": "#%%\n"
    }
   },
   "outputs": [],
   "source": [
    "# Set shaders source\n",
    "glShaderSource(vertex, vertex_code)\n",
    "glShaderSource(fragment, fragment_code)"
   ]
  },
  {
   "cell_type": "markdown",
   "metadata": {
    "pycharm": {
     "name": "#%% md\n"
    }
   },
   "source": [
    "### Compilando o Vertex Shader\n",
    "\n",
    "Se há algum erro em nosso programa Vertex Shader, nosso app para por aqui."
   ]
  },
  {
   "cell_type": "code",
   "execution_count": 1042,
   "metadata": {
    "pycharm": {
     "name": "#%%\n"
    }
   },
   "outputs": [],
   "source": [
    "# Compile shaders\n",
    "glCompileShader(vertex)\n",
    "if not glGetShaderiv(vertex, GL_COMPILE_STATUS):\n",
    "    error = glGetShaderInfoLog(vertex).decode()\n",
    "    print(error)\n",
    "    raise RuntimeError(\"Erro de compilacao do Vertex Shader\")"
   ]
  },
  {
   "cell_type": "markdown",
   "metadata": {
    "pycharm": {
     "name": "#%% md\n"
    }
   },
   "source": [
    "### Compilando o Fragment Shader\n",
    "\n",
    "Se há algum erro em nosso programa Fragment Shader, nosso app para por aqui."
   ]
  },
  {
   "cell_type": "code",
   "execution_count": 1043,
   "metadata": {
    "pycharm": {
     "name": "#%%\n"
    }
   },
   "outputs": [],
   "source": [
    "glCompileShader(fragment)\n",
    "if not glGetShaderiv(fragment, GL_COMPILE_STATUS):\n",
    "    error = glGetShaderInfoLog(fragment).decode()\n",
    "    print(error)\n",
    "    raise RuntimeError(\"Erro de compilacao do Fragment Shader\")"
   ]
  },
  {
   "cell_type": "markdown",
   "metadata": {
    "pycharm": {
     "name": "#%% md\n"
    }
   },
   "source": [
    "### Associando os programas compilado ao programa principal"
   ]
  },
  {
   "cell_type": "code",
   "execution_count": 1044,
   "metadata": {
    "pycharm": {
     "name": "#%%\n"
    }
   },
   "outputs": [],
   "source": [
    "# Attach shader objects to the program\n",
    "glAttachShader(program, vertex)\n",
    "glAttachShader(program, fragment)"
   ]
  },
  {
   "cell_type": "markdown",
   "metadata": {
    "pycharm": {
     "name": "#%% md\n"
    }
   },
   "source": [
    "### Linkagem do programa"
   ]
  },
  {
   "cell_type": "code",
   "execution_count": 1045,
   "metadata": {
    "pycharm": {
     "name": "#%%\n"
    }
   },
   "outputs": [],
   "source": [
    "# Build program\n",
    "glLinkProgram(program)\n",
    "if not glGetProgramiv(program, GL_LINK_STATUS):\n",
    "    print(glGetProgramInfoLog(program))\n",
    "    raise RuntimeError('Linking error')\n",
    "\n",
    "# Make program the default program\n",
    "glUseProgram(program)"
   ]
  },
  {
   "cell_type": "markdown",
   "metadata": {
    "pycharm": {
     "name": "#%% md\n"
    }
   },
   "source": [
    "### Preparando dados para enviar a GPU\n",
    "\n",
    "Nesse momento, compilamos nossos Vertex e Program Shaders para que a GPU possa processá-los.\n",
    "\n",
    "Por outro lado, as informações de vértices geralmente estão na CPU e devem ser transmitidas para a GPU."
   ]
  },
  {
   "cell_type": "markdown",
   "metadata": {
    "pycharm": {
     "name": "#%% md\n"
    }
   },
   "source": [
    "### Carregando Modelos (vértices e texturas) a partir de Arquivos\n",
    "\n",
    "A função abaixo carrega modelos a partir de arquivos no formato WaveFront.\n",
    "\n",
    "\n",
    "Para saber mais sobre o modelo, acesse: https://en.wikipedia.org/wiki/Wavefront_.obj_file\n",
    "\n",
    "\n",
    "Nos slides e vídeo da Aula, descrevemos o funcionamento desse formato."
   ]
  },
  {
   "cell_type": "code",
   "execution_count": 1046,
   "metadata": {
    "pycharm": {
     "name": "#%%\n"
    }
   },
   "outputs": [],
   "source": [
    "def load_model_from_file(filename):\n",
    "    \"\"\"Loads a Wavefront OBJ file. \"\"\"\n",
    "    objects = {}\n",
    "    vertices = []\n",
    "    normals = []\n",
    "    texture_coords = []\n",
    "    faces = []\n",
    "\n",
    "    material = None\n",
    "\n",
    "    # abre o arquivo obj para leitura\n",
    "    for line in open(filename, \"r\"):  ## para cada linha do arquivo .obj\n",
    "        if line.startswith('#'): continue  ## ignora comentarios\n",
    "        values = line.split()  # quebra a linha por espaço\n",
    "        if not values: continue\n",
    "\n",
    "        ### recuperando vertices\n",
    "        if values[0] == 'v':\n",
    "            vertices.append(values[1:4])\n",
    "\n",
    "        ### recuperando vertices\n",
    "        if values[0] == 'vn':\n",
    "            normals.append(values[1:4])\n",
    "\n",
    "        ### recuperando coordenadas de textura\n",
    "        elif values[0] == 'vt':\n",
    "            texture_coords.append(values[1:3])\n",
    "\n",
    "        ### recuperando faces\n",
    "        elif values[0] in ('usemtl', 'usemat'):\n",
    "            material = values[1]\n",
    "        elif values[0] == 'f':\n",
    "            face = []\n",
    "            face_texture = []\n",
    "            face_normals = []\n",
    "            for v in values[1:]:\n",
    "                w = v.split('/')\n",
    "                face.append(int(w[0]))\n",
    "                face_normals.append(int(w[2]))\n",
    "                if len(w) >= 2 and len(w[1]) > 0:\n",
    "                    face_texture.append(int(w[1]))\n",
    "                else:\n",
    "                    face_texture.append(0)\n",
    "\n",
    "            faces.append((face, face_texture, face_normals, material))\n",
    "\n",
    "    model = {}\n",
    "    model['vertices'] = vertices\n",
    "    model['texture'] = texture_coords\n",
    "    model['faces'] = faces\n",
    "    model['normals'] = normals\n",
    "\n",
    "    return model"
   ]
  },
  {
   "cell_type": "code",
   "execution_count": 1047,
   "metadata": {
    "pycharm": {
     "name": "#%%\n"
    }
   },
   "outputs": [],
   "source": [
    "glEnable(GL_TEXTURE_2D)\n",
    "\n",
    "\n",
    "def load_texture_from_file(texture_id, img_textura):\n",
    "    glBindTexture(GL_TEXTURE_2D, texture_id)\n",
    "    glTexParameteri(GL_TEXTURE_2D, GL_TEXTURE_WRAP_S, GL_REPEAT)\n",
    "    glTexParameteri(GL_TEXTURE_2D, GL_TEXTURE_WRAP_T, GL_REPEAT)\n",
    "    glTexParameteri(GL_TEXTURE_2D, GL_TEXTURE_MIN_FILTER, GL_LINEAR)\n",
    "    glTexParameteri(GL_TEXTURE_2D, GL_TEXTURE_MAG_FILTER, GL_LINEAR)\n",
    "    img = Image.open(img_textura)\n",
    "    img_width = img.size[0]\n",
    "    img_height = img.size[1]\n",
    "    image_data = img.tobytes(\"raw\", \"RGB\", 0, -1)\n",
    "    #image_data = np.array(list(img.getdata()), np.uint8)\n",
    "    glTexImage2D(GL_TEXTURE_2D, 0, GL_RGB, img_width, img_height, 0, GL_RGB, GL_UNSIGNED_BYTE, image_data)"
   ]
  },
  {
   "cell_type": "markdown",
   "metadata": {
    "pycharm": {
     "name": "#%% md\n"
    }
   },
   "source": [
    "### A lista abaixo armazena todos os vertices carregados dos arquivos"
   ]
  },
  {
   "cell_type": "code",
   "execution_count": 1048,
   "metadata": {
    "pycharm": {
     "name": "#%%\n"
    }
   },
   "outputs": [],
   "source": [
    "# vertices_list = []\n",
    "# textures_coord_list = []"
   ]
  },
  {
   "cell_type": "markdown",
   "metadata": {
    "pycharm": {
     "name": "#%% md\n"
    }
   },
   "source": [
    "### Carregamos cada modelo e definimos funções para desenhá-los"
   ]
  },
  {
   "cell_type": "code",
   "execution_count": 1049,
   "metadata": {
    "pycharm": {
     "name": "#%%\n"
    }
   },
   "outputs": [],
   "source": [
    "from os import listdir, getcwd\n",
    "from os.path import isfile, join, dirname\n",
    "\n",
    "RESOURCES_PATH = join(getcwd(), 'resources')\n",
    "\n",
    "\n",
    "def list_resources():\n",
    "    path = RESOURCES_PATH\n",
    "    return [f for f in listdir(path) if not isfile(join(path, f))]\n",
    "\n",
    "\n",
    "def create_texture_path(resource, texture):\n",
    "    path = join(RESOURCES_PATH, resource, 'textures', texture)\n",
    "    return path\n",
    "\n",
    "\n",
    "def list_textures(resource):\n",
    "    path = create_texture_path(resource, '')\n",
    "    return [create_texture_path(resource, f) for f in listdir(path) if isfile(join(path, f))]\n",
    "\n",
    "\n",
    "def create_obj_path(resource):\n",
    "    return join(RESOURCES_PATH, resource, 'figure.obj')\n",
    "\n",
    "\n",
    "def build_resources():\n",
    "    metadata = dict()\n",
    "    resources = list_resources()\n",
    "    for resource in resources:\n",
    "        metadata[resource] = {\n",
    "            'obj': create_obj_path(resource),\n",
    "            'textures': list_textures(resource)\n",
    "        }\n",
    "\n",
    "    return metadata"
   ]
  },
  {
   "cell_type": "code",
   "execution_count": 1050,
   "metadata": {
    "pycharm": {
     "name": "#%%\n"
    }
   },
   "outputs": [],
   "source": [
    "def load_model(resource, texture_map):\n",
    "    vertices = []\n",
    "    textures_coord = []\n",
    "    normals = []\n",
    "    materials = []\n",
    "    current_material = None\n",
    "\n",
    "    objects_map = dict()\n",
    "    glGenTextures(len(resource['textures']))\n",
    "\n",
    "    # Read textures\n",
    "    for i in range(len(resource['textures'])):\n",
    "        texture = resource['textures'][i]\n",
    "        texture_map[texture] = len(texture_map)\n",
    "        texture_id = texture_map[texture]\n",
    "        load_texture_from_file(texture_id, texture)\n",
    "\n",
    "    model = load_model_from_file(resource['obj'])\n",
    "    # Read OBJ\n",
    "    for face in model['faces']:\n",
    "        if (face[3] != current_material):\n",
    "            current_material = face[3];\n",
    "            materials.append(dict({'texture': current_material, 'offset': len(vertices)}))\n",
    "        for vertice_id in face[0]:\n",
    "            vertices.append(model['vertices'][vertice_id - 1])\n",
    "\n",
    "        for texture_id in face[1]:\n",
    "            textures_coord.append(model['texture'][texture_id - 1])\n",
    "        for normal_id in face[2]:\n",
    "            normals.append(model['normals'][normal_id - 1])\n",
    "\n",
    "    return vertices, textures_coord, normals, materials, texture_map\n",
    "\n",
    "\n",
    "def load_models(resources):\n",
    "    vertices_list = []\n",
    "    normals_list = []\n",
    "    textures_coord_list = []\n",
    "    materials_map = dict()\n",
    "    texture_map = dict()\n",
    "    for resource in resources:\n",
    "        start_position = len(vertices_list)\n",
    "        print(f'Processando modelo {resource}. Vertice inicial:', start_position)\n",
    "        vertices, texture_coord, normals, materials, texture_map = load_model(resources[resource], texture_map)\n",
    "        materials_map[resource] = materials\n",
    "        normals_list = normals_list + normals\n",
    "        vertices_list = vertices_list + vertices\n",
    "        textures_coord_list = textures_coord_list + texture_coord\n",
    "        end_position = len(vertices_list)\n",
    "        resources[resource]['position'] = (start_position, end_position)\n",
    "        print(f'Processando modelo {resource}. Vertice final:', end_position)\n",
    "\n",
    "    return vertices_list, textures_coord_list, normals_list, resources, texture_map, materials_map\n",
    "\n",
    "# sizes_list = []"
   ]
  },
  {
   "cell_type": "code",
   "execution_count": 1051,
   "metadata": {
    "pycharm": {
     "name": "#%%\n"
    }
   },
   "outputs": [
    {
     "name": "stdout",
     "output_type": "stream",
     "text": [
      "Processando modelo box. Vertice inicial: 0\n",
      "Processando modelo box. Vertice final: 36\n",
      "Processando modelo chunnin_room. Vertice inicial: 36\n",
      "Processando modelo chunnin_room. Vertice final: 34845\n",
      "Processando modelo gaara. Vertice inicial: 34845\n",
      "Processando modelo gaara. Vertice final: 87777\n",
      "Processando modelo madara. Vertice inicial: 87777\n",
      "Processando modelo madara. Vertice final: 191205\n",
      "Processando modelo naruto. Vertice inicial: 191205\n",
      "Processando modelo naruto. Vertice final: 231984\n",
      "Processando modelo ramen_shop. Vertice inicial: 231984\n",
      "Processando modelo ramen_shop. Vertice final: 262395\n",
      "Processando modelo rock_lee. Vertice inicial: 262395\n",
      "Processando modelo rock_lee. Vertice final: 268845\n",
      "Processando modelo sky. Vertice inicial: 268845\n",
      "Processando modelo sky. Vertice final: 306285\n",
      "Processando modelo street. Vertice inicial: 306285\n",
      "Processando modelo street. Vertice final: 306291\n",
      "Processando modelo sun. Vertice inicial: 306291\n",
      "Processando modelo sun. Vertice final: 343731\n",
      "Processando modelo terrain. Vertice inicial: 343731\n",
      "Processando modelo terrain. Vertice final: 343737\n"
     ]
    }
   ],
   "source": [
    "\n",
    "vertices_list, textures_coord_list, normals_list, resources, texture_map, materials_map = load_models(build_resources())"
   ]
  },
  {
   "cell_type": "markdown",
   "metadata": {
    "pycharm": {
     "name": "#%% md\n"
    }
   },
   "source": [
    "### Para enviar nossos dados da CPU para a GPU, precisamos requisitar slots.\n",
    "\n",
    "Agora requisitamos dois slots.\n",
    "* Um para enviar coordenadas dos vértices.\n",
    "* Outro para enviar coordenadas de texturas."
   ]
  },
  {
   "cell_type": "code",
   "execution_count": 1052,
   "metadata": {
    "pycharm": {
     "name": "#%%\n"
    }
   },
   "outputs": [],
   "source": [
    "# Request a buffer slot from GPU\n",
    "buffer = glGenBuffers(3)"
   ]
  },
  {
   "cell_type": "markdown",
   "metadata": {
    "pycharm": {
     "name": "#%% md\n"
    }
   },
   "source": [
    "###  Enviando coordenadas de vértices para a GPU"
   ]
  },
  {
   "cell_type": "code",
   "execution_count": 1053,
   "metadata": {
    "pycharm": {
     "name": "#%%\n"
    }
   },
   "outputs": [],
   "source": [
    "vertices = np.zeros(len(vertices_list), [(\"position\", np.float32, 3)])\n",
    "vertices['position'] = vertices_list\n",
    "\n",
    "# Upload data\n",
    "glBindBuffer(GL_ARRAY_BUFFER, buffer[0])\n",
    "glBufferData(GL_ARRAY_BUFFER, vertices.nbytes, vertices, GL_STATIC_DRAW)\n",
    "stride = vertices.strides[0]\n",
    "offset = ctypes.c_void_p(0)\n",
    "loc_vertices = glGetAttribLocation(program, \"position\")\n",
    "glEnableVertexAttribArray(loc_vertices)\n",
    "glVertexAttribPointer(loc_vertices, 3, GL_FLOAT, False, stride, offset)"
   ]
  },
  {
   "cell_type": "markdown",
   "metadata": {
    "pycharm": {
     "name": "#%% md\n"
    }
   },
   "source": [
    "###  Enviando coordenadas de textura para a GPU"
   ]
  },
  {
   "cell_type": "code",
   "execution_count": 1054,
   "metadata": {
    "pycharm": {
     "name": "#%%\n"
    }
   },
   "outputs": [],
   "source": [
    "textures = np.zeros(len(textures_coord_list), [(\"position\", np.float32, 2)])  # duas coordenadas\n",
    "textures['position'] = textures_coord_list\n",
    "\n",
    "# Upload data\n",
    "glBindBuffer(GL_ARRAY_BUFFER, buffer[1])\n",
    "glBufferData(GL_ARRAY_BUFFER, textures.nbytes, textures, GL_STATIC_DRAW)\n",
    "stride = textures.strides[0]\n",
    "offset = ctypes.c_void_p(0)\n",
    "loc_texture_coord = glGetAttribLocation(program, \"texture_coord\")\n",
    "glEnableVertexAttribArray(loc_texture_coord)\n",
    "glVertexAttribPointer(loc_texture_coord, 2, GL_FLOAT, False, stride, offset)"
   ]
  },
  {
   "cell_type": "code",
   "execution_count": 1055,
   "metadata": {
    "pycharm": {
     "name": "#%%\n"
    }
   },
   "outputs": [],
   "source": [
    "normals = np.zeros(len(normals_list), [(\"position\", np.float32, 3)])  # três coordenadas\n",
    "normals['position'] = normals_list\n",
    "\n",
    "# Upload coordenadas normals de cada vertice\n",
    "glBindBuffer(GL_ARRAY_BUFFER, buffer[2])\n",
    "glBufferData(GL_ARRAY_BUFFER, normals.nbytes, normals, GL_STATIC_DRAW)\n",
    "stride = normals.strides[0]\n",
    "offset = ctypes.c_void_p(0)\n",
    "loc_normals_coord = glGetAttribLocation(program, \"normals\")\n",
    "glEnableVertexAttribArray(loc_normals_coord)\n",
    "glVertexAttribPointer(loc_normals_coord, 3, GL_FLOAT, False, stride, offset)"
   ]
  },
  {
   "cell_type": "markdown",
   "metadata": {
    "pycharm": {
     "name": "#%% md\n"
    }
   },
   "source": [
    "### Desenhando nossos modelos\n",
    "* Cada modelo tem um Model para posicioná-los no mundo.\n",
    "* É necessário saber qual a posição inicial e total de vértices de cada modelo.\n",
    "* É necessário indicar qual o ID da textura do modelo."
   ]
  },
  {
   "cell_type": "code",
   "execution_count": 1056,
   "metadata": {
    "pycharm": {
     "name": "#%%\n"
    }
   },
   "outputs": [],
   "source": [
    "def draw_model(model_name, model_position, model_light, resource, texture_map, materials):\n",
    "    (start_index, end_index) = resource['position']\n",
    "\n",
    "    # aplica a matriz model\n",
    "    (angle, r_x, r_y, r_z, t_x, t_y, t_z, s_x, s_y, s_z) = model_position\n",
    "    (ka, kd, ks, ns, is_source) = model_light\n",
    "\n",
    "    mat_model = model(angle, r_x, r_y, r_z, t_x, t_y, t_z, s_x, s_y, s_z)\n",
    "    loc_model = glGetUniformLocation(program, \"model\")\n",
    "    glUniformMatrix4fv(loc_model, 1, GL_TRUE, mat_model)\n",
    "\n",
    "    loc_ka = glGetUniformLocation(program, \"ka\")  # recuperando localizacao da variavel ka na GPU\n",
    "    glUniform1f(loc_ka, ka)  ### envia ka pra gpu\n",
    "\n",
    "    loc_kd = glGetUniformLocation(program, \"kd\")  # recuperando localizacao da variavel kd na GPU\n",
    "    glUniform1f(loc_kd, kd)  ### envia kd pra gpu\n",
    "\n",
    "    loc_ks = glGetUniformLocation(program, \"ks\")  # recuperando localizacao da variavel ks na GPU\n",
    "    glUniform1f(loc_ks, ks)  ### envia ks pra gpu\n",
    "\n",
    "    loc_ns = glGetUniformLocation(program, \"ns\")  # recuperando localizacao da variavel ns na GPU\n",
    "    glUniform1f(loc_ns, ns)  ### envia ns pra gpu\n",
    "\n",
    "    if (is_source):\n",
    "        loc_light_pos = glGetUniformLocation(program, \"lightPos\")  # recuperando localizacao da variavel lightPos na GPU\n",
    "        glUniform3f(loc_light_pos, t_x, t_y, t_z)  ### posicao da fonte de luz\n",
    "\n",
    "    for i in range(len(materials)):\n",
    "        texture = create_texture_path(model_name, materials[i]['texture'])\n",
    "        texture_id = texture_map[texture]\n",
    "        glBindTexture(GL_TEXTURE_2D, texture_id)\n",
    "        start_texture_index = start_index + materials[i]['offset']\n",
    "        size = materials[i + 1]['offset'] - materials[i]['offset'] if i + 1 < len(\n",
    "            materials) else end_index - start_texture_index\n",
    "        glDrawArrays(GL_TRIANGLES, start_texture_index, size)\n",
    "\n",
    "\n",
    "def draw_models(models, resources, texture_map, materials_map):\n",
    "    for model in models:\n",
    "        draw_model(model, models[model]['position'], models[model]['light'], resources[model], texture_map,\n",
    "                   materials_map[model])\n"
   ]
  },
  {
   "cell_type": "code",
   "execution_count": 1057,
   "metadata": {
    "pycharm": {
     "name": "#%%\n"
    }
   },
   "outputs": [],
   "source": [
    "def build_model_defs(angle):\n",
    "    return dict(\n",
    "        ## position: angle, r_x, r_y, r_z, t_x, t_Y, t_z, s_x, s_y, s_z\n",
    "        ## light: ka, kd, ks, ns\n",
    "        {\n",
    "            'terrain': {\n",
    "                'position': (0, 1, 0, 0, 0, -1, 0, 60, 60, 60),\n",
    "                'light': (0.6, 0.3, 0.7, 1.5, False)\n",
    "            },\n",
    "            'chunnin_room': {\n",
    "                'position': (180, 0, 1, 0, 0, -25.85, 175, 3, 3, 3),\n",
    "                'light': (0.6, 0.5, 0.5, 200, False)\n",
    "            },\n",
    "            'madara': {\n",
    "                'position': (0, 1, 0, 0, 3.5, -1.001, min(angle *50, 53) - 30, 0.35, 0.35, 0.35),\n",
    "                'light': (0.6, 1, 0.5, 200, False)\n",
    "            },\n",
    "            'gaara': {\n",
    "                'position': (270, 1, 0, 0, 3.5, -0.98, 33 + min(angle *15, 3), 0.005, 0.005, 0.005),\n",
    "                'light': (1, 0.3, 0.9, 64, False)\n",
    "            },\n",
    "            'rock_lee': {\n",
    "                'position': (180, 0, 1, 0, 3.5, -0.98, 38, 0.035, 0.035, 0.035),\n",
    "                'light': (1, 0.3, 0.9, 64, False)\n",
    "            },\n",
    "            'naruto': {\n",
    "                'position': (270, 1, 0, 0, -2.8, 2.6, 32, 0.006, 0.006, 0.006),\n",
    "                'light': (1, 0.3, 0.9, 64, False)\n",
    "            },\n",
    "            'sky': {\n",
    "                'position': (0, 1, 0, 0, 0, 0, 0, 60, 60, 60),\n",
    "                'light': (0.8, 1, 0.2, 0.5, False)\n",
    "            },\n",
    "            'sun': {\n",
    "                'position': (angle, 1, 1, 1, 30.5, -30 + math.cos(angle) * 50, math.sin(angle) * 50, 2, 2, 2),\n",
    "                'light': (1, 1, 1, 1000000, True)\n",
    "            },\n",
    "            'street': {\n",
    "                'position': (0, 1, 0, 0, 3.6, -0.99, 0, 1, 1, 60),\n",
    "                'light': (0.6, 1, 0.5, 200, False)\n",
    "            },\n",
    "            'ramen_shop': {\n",
    "                'position': (270, 0, 1, 0, 8.5, -1.05, 0, 0.005, 0.005, 0.005),\n",
    "                'light': (0.8, 1, 1, 200, False)\n",
    "            },\n",
    "            'box': {\n",
    "                'position': (270, 0, 1, 0, 11.5, -0.5, 0, 0.3, 0.3, 0.3),                \n",
    "                'light': (0.8, 1, 1, 1.5, False)\n",
    "            }\n",
    "        }\n",
    "    )"
   ]
  },
  {
   "cell_type": "code",
   "execution_count": 1058,
   "metadata": {
    "pycharm": {
     "name": "#%%\n"
    }
   },
   "outputs": [],
   "source": [
    "\n",
    "mixer.init()\n",
    "mixer.music.load(join(getcwd(), 'theme.wav'))\n",
    "is_playing_theme = False\n",
    "def play_theme(cameraPos):\n",
    "    global is_playing_theme\n",
    "    x_range = (-3, 10)\n",
    "    z_range = (23, 48)\n",
    "    y_range = (-1, 5)\n",
    "\n",
    "    if ((cameraPos[0] > x_range[0] and cameraPos[0] < x_range[1]) and (cameraPos[1] > y_range[0] and cameraPos[1] < y_range[1])  and (cameraPos[2] > z_range[0] and cameraPos[2] < z_range[1])):\n",
    "        if (not is_playing_theme):\n",
    "            mixer.music.play()\n",
    "            is_playing_theme = True\n",
    "    else:\n",
    "        if (is_playing_theme):\n",
    "            mixer.music.pause()\n",
    "            is_playing_theme = False\n"
   ]
  },
  {
   "cell_type": "markdown",
   "metadata": {
    "pycharm": {
     "name": "#%% md\n"
    }
   },
   "source": [
    ")### Eventos para modificar a posição da câmera.\n",
    "\n",
    "* Usei as teclas A, S, D e W para movimentação no espaço tridimensional.\n",
    "* Usei a posição do mouse para \"direcionar\" a câmera."
   ]
  },
  {
   "cell_type": "code",
   "execution_count": 1059,
   "metadata": {
    "pycharm": {
     "name": "#%%\n"
    }
   },
   "outputs": [],
   "source": [
    "cameraPos = glm.vec3(0.0, 0.0, 1.0);\n",
    "cameraFront = glm.vec3(0.0, 0.0, -1.0);\n",
    "cameraUp = glm.vec3(0.0, 1.0, 0.0);\n",
    "\n",
    "polygonal_mode = False\n",
    "\n",
    "def key_event(window, key, scancode, action, mods):\n",
    "    global cameraPos, cameraFront, cameraUp, polygonal_mode\n",
    "\n",
    "    cameraSpeed = 0.2\n",
    "    if key == 87 and (action == 1 or action == 2):  # tecla W\n",
    "        cameraPos += cameraSpeed * cameraFront\n",
    "\n",
    "    if key == 83 and (action == 1 or action == 2):  # tecla S\n",
    "        cameraPos -= cameraSpeed * cameraFront\n",
    "\n",
    "    if key == 65 and (action == 1 or action == 2):  # tecla A\n",
    "        cameraPos -= glm.normalize(glm.cross(cameraFront, cameraUp)) * cameraSpeed\n",
    "\n",
    "    if key == 68 and (action == 1 or action == 2):  # tecla D\n",
    "        cameraPos += glm.normalize(glm.cross(cameraFront, cameraUp)) * cameraSpeed\n",
    "\n",
    "    if key == 80 and action == 1 and polygonal_mode == True:\n",
    "        polygonal_mode = False\n",
    "    else:\n",
    "        if key == 80 and action == 1 and polygonal_mode == False:\n",
    "            polygonal_mode = True\n",
    "\n",
    "    cameraPos[0] = max(cameraPos[0], -25) if cameraPos[0] < 0 else min(cameraPos[0], 25)\n",
    "    cameraPos[1] = max(cameraPos[1], -0.5) if cameraPos[1] < 0 else min(cameraPos[1], 25)\n",
    "    cameraPos[2] = max(cameraPos[2], -20) if cameraPos[2] < 0 else min(cameraPos[2], 45)\n",
    "    play_theme(cameraPos)\n",
    "\n",
    "firstMouse = True\n",
    "yaw = -90.0\n",
    "pitch = 0.0\n",
    "lastX = largura / 2\n",
    "lastY = altura / 2\n",
    "\n",
    "\n",
    "def mouse_event(window, xpos, ypos):\n",
    "    global firstMouse, cameraFront, yaw, pitch, lastX, lastY\n",
    "    if firstMouse:\n",
    "        lastX = xpos\n",
    "        lastY = ypos\n",
    "        firstMouse = False\n",
    "\n",
    "    xoffset = xpos - lastX\n",
    "    yoffset = lastY - ypos\n",
    "    lastX = xpos\n",
    "    lastY = ypos\n",
    "\n",
    "    sensitivity = 0.3\n",
    "    xoffset *= sensitivity\n",
    "    yoffset *= sensitivity\n",
    "\n",
    "    yaw += xoffset;\n",
    "    pitch += yoffset;\n",
    "\n",
    "    if pitch >= 90.0: pitch = 90.0\n",
    "    if pitch <= -90.0: pitch = -90.0\n",
    "\n",
    "    front = glm.vec3()\n",
    "    front.x = math.cos(glm.radians(yaw)) * math.cos(glm.radians(pitch))\n",
    "    front.y = math.sin(glm.radians(pitch))\n",
    "    front.z = math.sin(glm.radians(yaw)) * math.cos(glm.radians(pitch))\n",
    "    cameraFront = glm.normalize(front)\n",
    "\n",
    "\n",
    "glfw.set_key_callback(window, key_event)\n",
    "glfw.set_cursor_pos_callback(window, mouse_event)"
   ]
  },
  {
   "cell_type": "markdown",
   "metadata": {
    "pycharm": {
     "name": "#%% md\n"
    }
   },
   "source": [
    "### Matrizes Model, View e Projection\n",
    "\n",
    "Teremos uma aula específica para entender o seu funcionamento."
   ]
  },
  {
   "cell_type": "code",
   "execution_count": 1060,
   "metadata": {
    "pycharm": {
     "name": "#%%\n"
    }
   },
   "outputs": [],
   "source": [
    "def model(angle, r_x, r_y, r_z, t_x, t_y, t_z, s_x, s_y, s_z):\n",
    "    angle = math.radians(angle)\n",
    "\n",
    "    matrix_transform = glm.mat4(1.0)  # instanciando uma matriz identidade\n",
    "\n",
    "    # aplicando translacao\n",
    "    matrix_transform = glm.translate(matrix_transform, glm.vec3(t_x, t_y, t_z))\n",
    "\n",
    "    # aplicando rotacao\n",
    "    matrix_transform = glm.rotate(matrix_transform, angle, glm.vec3(r_x, r_y, r_z))\n",
    "\n",
    "    # aplicando escala\n",
    "    matrix_transform = glm.scale(matrix_transform, glm.vec3(s_x, s_y, s_z))\n",
    "\n",
    "    matrix_transform = np.array(matrix_transform)\n",
    "\n",
    "    return matrix_transform\n",
    "\n",
    "\n",
    "def view():\n",
    "    global cameraPos, cameraFront, cameraUp\n",
    "    mat_view = glm.lookAt(cameraPos, cameraPos + cameraFront, cameraUp);\n",
    "    mat_view = np.array(mat_view)\n",
    "    return mat_view\n",
    "\n",
    "\n",
    "def projection():\n",
    "    global altura, largura\n",
    "    # perspective parameters: fovy, aspect, near, far\n",
    "    mat_projection = glm.perspective(glm.radians(45.0), largura / altura, 0.1, 1000.0)\n",
    "    mat_projection = np.array(mat_projection)\n",
    "    return mat_projection"
   ]
  },
  {
   "cell_type": "markdown",
   "metadata": {
    "pycharm": {
     "name": "#%% md\n"
    }
   },
   "source": [
    "### Nesse momento, exibimos a janela."
   ]
  },
  {
   "cell_type": "code",
   "execution_count": 1061,
   "metadata": {
    "pycharm": {
     "name": "#%%\n"
    }
   },
   "outputs": [],
   "source": [
    "glfw.show_window(window)\n",
    "glfw.set_cursor_pos(window, lastX, lastY)"
   ]
  },
  {
   "cell_type": "markdown",
   "metadata": {
    "pycharm": {
     "name": "#%% md\n"
    }
   },
   "source": [
    "### Loop principal da janela.\n",
    "Enquanto a janela não for fechada, esse laço será executado. É neste espaço que trabalhamos com algumas interações com a OpenGL."
   ]
  },
  {
   "cell_type": "code",
   "execution_count": null,
   "metadata": {
    "pycharm": {
     "name": "#%%\n"
    }
   },
   "outputs": [],
   "source": [
    "glEnable(GL_DEPTH_TEST)  ### importante para 3D\n",
    "\n",
    "angle = 0\n",
    "while not glfw.window_should_close(window):\n",
    "\n",
    "    glfw.poll_events()\n",
    "\n",
    "    glClear(GL_COLOR_BUFFER_BIT | GL_DEPTH_BUFFER_BIT)\n",
    "\n",
    "    glClearColor(1.0, 1.0, 1.0, 1.0)\n",
    "\n",
    "    if polygonal_mode == True:\n",
    "        glPolygonMode(GL_FRONT_AND_BACK, GL_LINE)\n",
    "    if polygonal_mode == False:\n",
    "        glPolygonMode(GL_FRONT_AND_BACK, GL_FILL)\n",
    "\n",
    "    angle = (angle + 0.00005)\n",
    "\n",
    "    draw_models(build_model_defs(angle), resources, texture_map, materials_map)\n",
    "\n",
    "    mat_view = view()\n",
    "    loc_view = glGetUniformLocation(program, \"view\")\n",
    "    glUniformMatrix4fv(loc_view, 1, GL_TRUE, mat_view)\n",
    "\n",
    "\n",
    "    mat_projection = projection()\n",
    "    loc_projection = glGetUniformLocation(program, \"projection\")\n",
    "    glUniformMatrix4fv(loc_projection, 1, GL_TRUE, mat_projection)\n",
    "\n",
    "    loc_view_pos = glGetUniformLocation(program, \"viewPos\")  # recuperando localizacao da variavel viewPos na GPU\n",
    "    glUniform3f(loc_view_pos, cameraPos[0], cameraPos[1], cameraPos[2])  ### posicao da camera/observador (x,y,z)\n",
    "\n",
    "    glfw.swap_buffers(window)\n",
    "\n",
    "glfw.terminate()"
   ]
  },
  {
   "cell_type": "code",
   "execution_count": null,
   "metadata": {
    "pycharm": {
     "name": "#%%\n"
    }
   },
   "outputs": [],
   "source": []
  }
 ],
 "metadata": {
  "finalized": {
   "timestamp": 1589232864147,
   "trusted": true
  },
  "kernelspec": {
   "display_name": "Python 3",
   "language": "python",
   "name": "python3"
  },
  "language_info": {
   "codemirror_mode": {
    "name": "ipython",
    "version": 3
   },
   "file_extension": ".py",
   "mimetype": "text/x-python",
   "name": "python",
   "nbconvert_exporter": "python",
   "pygments_lexer": "ipython3",
   "version": "3.8.8"
  }
 },
 "nbformat": 4,
 "nbformat_minor": 2
}
